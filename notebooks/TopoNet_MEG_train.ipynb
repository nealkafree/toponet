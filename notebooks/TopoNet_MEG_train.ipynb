{
 "cells": [
  {
   "metadata": {},
   "cell_type": "markdown",
   "source": [
    "# Notebook for training TopoNEt model on MEG data for predicting the task being performed\n",
    "\n",
    "Model architecture - https://arxiv.org/pdf/1611.08024\n",
    "\n",
    "Training data - MEG data recorder while people were performing different tasks."
   ],
   "id": "98adf53937fc6da2"
  },
  {
   "metadata": {
    "ExecuteTime": {
     "end_time": "2025-06-13T15:57:04.590252Z",
     "start_time": "2025-06-13T15:57:04.587318Z"
    }
   },
   "cell_type": "code",
   "source": [
    "import copy\n",
    "import random\n",
    "\n",
    "import torch\n",
    "from torch import nn\n",
    "import torch.nn.functional as F\n",
    "from torch.utils.data import DataLoader, random_split, Subset\n",
    "import torchmetrics\n",
    "from pymatreader import read_mat\n",
    "import numpy as np\n",
    "from tqdm.notebook import tqdm\n",
    "from matplotlib import pyplot as plt\n",
    "from sklearn.model_selection import KFold"
   ],
   "id": "86a764081524d43f",
   "outputs": [],
   "execution_count": 196
  },
  {
   "metadata": {},
   "cell_type": "markdown",
   "source": [
    "## First experiment\n",
    "0.5 seconds before the actual experiment has started. Participant is informed, what he needs to pay attention to.\n",
    "Only one participant is used for training and testing."
   ],
   "id": "e67a0e44b2acc9e8"
  },
  {
   "metadata": {},
   "cell_type": "markdown",
   "source": "### Loading data",
   "id": "d65b64d21179788f"
  },
  {
   "metadata": {
    "ExecuteTime": {
     "end_time": "2025-06-03T02:35:05.107182Z",
     "start_time": "2025-06-03T02:35:05.104200Z"
    }
   },
   "cell_type": "code",
   "source": [
    "def load_first_500ms(file_path: str, label: int) -> list:\n",
    "    \"\"\"\n",
    "    Loads trials from a file and takes the first 500ms of data from them.\n",
    "    :return: (500ms_of_trial, label) where label is ground truth for classification.\n",
    "    \"\"\"\n",
    "    data = read_mat(file_path)\n",
    "    cut_data = []\n",
    "    for trial in data['finalStruct']['trial']:\n",
    "        cut_trial = np.empty([0, 500])\n",
    "        for sensor in trial:\n",
    "            cut_trial = np.append(cut_trial, [sensor[:500]], axis=0)\n",
    "        cut_data.append((np.float32(cut_trial), label))\n",
    "    return cut_data"
   ],
   "id": "22e155c8b0549baa",
   "outputs": [],
   "execution_count": 43
  },
  {
   "metadata": {
    "ExecuteTime": {
     "end_time": "2025-06-13T16:15:19.127729Z",
     "start_time": "2025-06-13T16:15:00.009820Z"
    }
   },
   "cell_type": "code",
   "source": [
    "subject_number = '01' # We can train our models on different participants\n",
    "\n",
    "data = load_first_500ms(f'/mnt/diska/baldauf/Subject_{subject_number}_OnsetStim_BOT_scoutTimeSeriesNew.mat', 0) + \\\n",
    "       load_first_500ms(f'/mnt/diska/baldauf/Subject_{subject_number}_OnsetStim_TOP_scoutTimeSeriesNew.mat', 1)\n",
    "\n",
    "# Since we have a small amount of data, we will only use train and test\n",
    "test_size = int(0.1 * len(data))\n",
    "train_dataset, test_dataset = random_split(data, [len(data) - test_size, test_size])\n",
    "\n",
    "torch.manual_seed(42) # for reproducibility\n",
    "train_loader = DataLoader(train_dataset, batch_size=32, shuffle=True)\n",
    "test_loader = DataLoader(test_dataset, batch_size=32)\n",
    "\n",
    "f'Size of training dataset - {len(data) - test_size} trials'"
   ],
   "id": "356e802ccd36ee1b",
   "outputs": [
    {
     "data": {
      "text/plain": [
       "'Size of training dataset - 219 trials'"
      ]
     },
     "execution_count": 213,
     "metadata": {},
     "output_type": "execute_result"
    }
   ],
   "execution_count": 213
  },
  {
   "metadata": {},
   "cell_type": "markdown",
   "source": [
    "### Model classes\n",
    "\n",
    "Here we implement EEGNet, but with some modifications, due to the nature of our data and need to use topographical constraints."
   ],
   "id": "e714dbc84c538907"
  },
  {
   "metadata": {
    "ExecuteTime": {
     "end_time": "2025-06-13T14:27:49.645324Z",
     "start_time": "2025-06-13T14:27:49.637903Z"
    }
   },
   "cell_type": "code",
   "source": [
    "class ConstrainedConv2d(nn.Conv2d):\n",
    "    \"\"\"\n",
    "    Implementation of maximum norm constraint for Conv2D layer\n",
    "    \"\"\"\n",
    "    def forward(self, x: torch.Tensor) -> torch.Tensor:\n",
    "        return F.conv2d(x, self.weight.clamp(max=1.0), self.bias, self.stride,\n",
    "                        self.padding, self.dilation, self.groups)\n",
    "\n",
    "class ConstrainedLinear(nn.Linear):\n",
    "    \"\"\"\n",
    "    Implementation of maximum norm constraint for Linear layer\n",
    "    \"\"\"\n",
    "    def forward(self, x: torch.Tensor) -> torch.Tensor:\n",
    "        return F.linear(x, self.weight.clamp(max=0.5), self.bias)\n",
    "\n",
    "class EEGNet(nn.Module):\n",
    "    def __init__(self, sensors: int, samples: int, num_classes: int, filter_size=64, f1=8, depth=2, f2=16, dropout=0.25):\n",
    "        super().__init__()\n",
    "        self.block1 = nn.Sequential(\n",
    "            # This layer does 1d convolutions on data from sensors.\n",
    "            # Since we have only 500ms of data we set kernel length at 250 (we look at 250ms at once).\n",
    "            # We can capture patterns with frequency above 4Hz (because data sampling is 1000Hz, 1000 / 250 = 4).\n",
    "            nn.Conv2d(in_channels=1, out_channels=f1, kernel_size=(1, filter_size), padding='same',\n",
    "                      bias=False),\n",
    "            nn.BatchNorm2d(f1),\n",
    "\n",
    "            # Depthwise convolution. Looks for spatial patterns and combines all data from sensors together.\n",
    "            # We use our own implementation of convolution layer because pytorch doesn't have weight constraints implemented.\n",
    "            ConstrainedConv2d(in_channels=f1, out_channels=f1*depth, kernel_size=(sensors, 1), padding='valid',\n",
    "                              groups=f1, bias=False),\n",
    "            nn.BatchNorm2d(f1*depth),\n",
    "            nn.ELU(),\n",
    "\n",
    "            # Average pooling to reduce sampling rate\n",
    "            nn.AvgPool2d(kernel_size=(1, 4)),\n",
    "            nn.Dropout(dropout),\n",
    "        )\n",
    "        self.block2 = nn.Sequential(\n",
    "            # Implementation of Separable convolution.\n",
    "            # First we use Depthwise convolution (separately for all channels).\n",
    "            nn.Conv2d(in_channels=f1*depth, out_channels=f1*depth, kernel_size=(1, 16), padding='same',\n",
    "                      groups=f1*depth, bias=False),\n",
    "\n",
    "            # Next we combine channels with Pointwise convolution.\n",
    "            nn.Conv2d(in_channels=f1*depth, out_channels=f2, kernel_size=(1, 1), bias=False),\n",
    "            nn.BatchNorm2d(f2),\n",
    "            nn.ELU(),\n",
    "\n",
    "            # Average pooling to reduce sampling rate\n",
    "            nn.AvgPool2d(kernel_size=(1, 8)),\n",
    "            nn.Dropout(dropout),\n",
    "            nn.Flatten(),\n",
    "        )\n",
    "        # We have to add one dense layer in order to implement topographical constraints.\n",
    "        # We use our own implementation again to introduce weights constraint.\n",
    "        self.linear = ConstrainedLinear(in_features=f2*(samples//32), out_features=36)\n",
    "\n",
    "        # Classifier layer\n",
    "        self.classifier = nn.Linear(in_features=36, out_features=num_classes)\n",
    "\n",
    "    def forward(self, x: torch.Tensor) -> torch.Tensor:\n",
    "        x = self.block1(x)\n",
    "        x = self.block2(x)\n",
    "        x = self.linear(x)\n",
    "        return self.classifier(x)\n"
   ],
   "id": "eba37aa8f0bfd12a",
   "outputs": [],
   "execution_count": 179
  },
  {
   "metadata": {},
   "cell_type": "markdown",
   "source": [
    "### Sanity check\n",
    "Checking, that forward pass works and model data shapes are the ones we expect"
   ],
   "id": "b7709a2f622176aa"
  },
  {
   "metadata": {
    "ExecuteTime": {
     "end_time": "2025-06-03T02:52:14.377210Z",
     "start_time": "2025-06-03T02:52:14.351579Z"
    }
   },
   "cell_type": "code",
   "source": [
    "test_data, label = next(iter(test_loader))\n",
    "test_sample = test_data[0].unsqueeze(0).unsqueeze(0)\n",
    "print(f'The shape of the test sample is {test_sample.shape}')\n",
    "\n",
    "test_model = EEGNet(sensors=test_sample.shape[2], samples=test_sample.shape[3], num_classes=2, f1=8, depth=2, f2=16, dropout=0.5)\n",
    "test_model.eval()\n",
    "with torch.inference_mode():\n",
    "    x = test_model.block1(test_sample)\n",
    "    print(f'Expected shape - (1, 16, 1, 125), we have - {x.shape}')\n",
    "    x = test_model.block2(x)\n",
    "    print(f'Expected shape - (1, 240), we have - {x.shape}')\n",
    "    x = test_model.linear(x)\n",
    "    print(f'Expected shape - (1, 36), we have - {x.shape}')\n",
    "    x = test_model.classifier(x)\n",
    "    print(f'Expected shape - (1, 2), we have - {x.shape}')"
   ],
   "id": "f6a96af3e7b0f815",
   "outputs": [
    {
     "name": "stdout",
     "output_type": "stream",
     "text": [
      "The shape of the test sample is torch.Size([1, 1, 360, 500])\n",
      "Expected shape - (1, 16, 1, 125), we have - torch.Size([1, 16, 1, 125])\n",
      "Expected shape - (1, 240), we have - torch.Size([1, 240])\n",
      "Expected shape - (1, 36), we have - torch.Size([1, 36])\n",
      "Expected shape - (1, 2), we have - torch.Size([1, 2])\n"
     ]
    }
   ],
   "execution_count": 64
  },
  {
   "metadata": {},
   "cell_type": "markdown",
   "source": [
    "### Spatial loss implementation\n",
    "Imagines, that neurons on the layer have a spatial organization and calculates average distance between neighbouring weights associated with those neurons.\n",
    "\n",
    "Inspired by brain neuronal organization."
   ],
   "id": "37dc95b54969e2c9"
  },
  {
   "metadata": {
    "ExecuteTime": {
     "end_time": "2025-06-13T14:55:10.845872Z",
     "start_time": "2025-06-13T14:55:10.841514Z"
    }
   },
   "cell_type": "code",
   "source": [
    "def spatial_loss(weights: torch.Tensor, grid_width: int):\n",
    "    \"\"\"\n",
    "    Calculates the spatial loss for a set of weights.\n",
    "    :param weights: weights tensor.\n",
    "    :param grid_width: width of our imagined grid. Works with any grid of rectangular shape.\n",
    "    \"\"\"\n",
    "    # This is a transformation which helps to calculate indexes of \"neighbouring\" neurons.\n",
    "    neighbour_transformations = np.array([-grid_width - 1, -grid_width, -grid_width + 1, -1, +1, grid_width - 1, grid_width, grid_width + 1])\n",
    "\n",
    "    sp_loss = 0.0\n",
    "    num_neighbours = 0\n",
    "    for i in range(weights.shape[0]):\n",
    "        # We calculate indexes and filter those out of scope.\n",
    "        neighbours = neighbour_transformations + i\n",
    "        neighbour_filter = (neighbours >= 0) & (neighbours < weights.shape[0]) & ~ ((i % grid_width == grid_width - 1) & (neighbours % grid_width == 0)) & ~ ((i % grid_width == 0) & (neighbours % grid_width == grid_width - 1))\n",
    "        neighbours = neighbours[neighbour_filter]\n",
    "\n",
    "        # We calculate squared distance between weights of the neuron and its neighbours.\n",
    "        for neighbour in neighbours:\n",
    "            distance = torch.norm(weights[i] - weights[neighbour])\n",
    "            sp_loss += distance\n",
    "\n",
    "        num_neighbours += len(neighbours)\n",
    "\n",
    "    # We return an average distance.\n",
    "    return sp_loss / num_neighbours"
   ],
   "id": "5d9d5d1cd21d84e2",
   "outputs": [],
   "execution_count": 190
  },
  {
   "metadata": {},
   "cell_type": "markdown",
   "source": "### Train and Test steps",
   "id": "8e9beac0d99cadc3"
  },
  {
   "metadata": {
    "ExecuteTime": {
     "end_time": "2025-06-13T14:31:46.832462Z",
     "start_time": "2025-06-13T14:31:46.825374Z"
    }
   },
   "cell_type": "code",
   "source": [
    "def train_step(model, train_data, loss_fn, optimizer, lambda_regularization=0.0, spatial=False, spatial_grid_width=6):\n",
    "    \"\"\"\n",
    "    Performs one training step.\n",
    "    :param model:\n",
    "    :param train_data:\n",
    "    :param loss_fn:\n",
    "    :param optimizer:\n",
    "    :param lambda_regularization: regularization parameter for spatial loss.\n",
    "    :param spatial: True, if we need to calculate spatial loss.\n",
    "    :param spatial_grid_width: width of grid for spatial loss.\n",
    "    :return: Average loss during the training cycle.\n",
    "    \"\"\"\n",
    "    model.train()\n",
    "\n",
    "    y_preds = torch.empty(0, device=DEVICE)\n",
    "    y_targets = torch.empty(0, device=DEVICE)\n",
    "    avg_loss = 0.0\n",
    "    for X, y in train_data:\n",
    "        X, y = X.to(DEVICE), y.to(DEVICE)\n",
    "        X = X.unsqueeze(1)\n",
    "        # Forward pass\n",
    "        y_logits = model(X)\n",
    "        # Performance loss\n",
    "        loss = loss_fn(y_logits, y)\n",
    "        # Addition of spatial loss\n",
    "        if spatial:\n",
    "            loss += lambda_regularization * spatial_loss(model.linear.weight, spatial_grid_width)\n",
    "        # Zero gradients\n",
    "        optimizer.zero_grad()\n",
    "        # Backpropagation\n",
    "        loss.backward()\n",
    "        # Parameters update\n",
    "        optimizer.step()\n",
    "\n",
    "        # Making predictions\n",
    "        yp = torch.argmax(y_logits, dim=1)\n",
    "        # Save the loss\n",
    "        avg_loss += loss\n",
    "        # Saving predictions\n",
    "        y_preds = torch.cat((y_preds, yp), dim=0)\n",
    "        # Saving targets\n",
    "        y_targets = torch.cat((y_targets, y), dim=0)\n",
    "\n",
    "    return y_preds, y_targets, avg_loss / len(train_data)\n",
    "\n",
    "def test_step(model, test_data, loss_fn, lambda_regularization=0.0, spatial=False, spatial_grid_width=6):\n",
    "    \"\"\"\n",
    "    Performs one test step.\n",
    "    :param model:\n",
    "    :param test_data:\n",
    "    :param loss_fn:\n",
    "    :param lambda_regularization: regularization parameter for spatial loss.\n",
    "    :param spatial: True, if we need to calculate spatial loss.\n",
    "    :param spatial_grid_width: width of grid for spatial loss.\n",
    "    :return: model predictions on test data, targets and average loss during the test cycle.\n",
    "    \"\"\"\n",
    "    model.eval()\n",
    "\n",
    "    y_preds = torch.empty(0, device=DEVICE)\n",
    "    y_targets = torch.empty(0, device=DEVICE)\n",
    "    avg_loss = 0.0\n",
    "    with torch.inference_mode():\n",
    "        for X, y in test_data:\n",
    "            X, y = X.to(DEVICE), y.to(DEVICE)\n",
    "            X = X.unsqueeze(1)\n",
    "            # Forward pass\n",
    "            y_logits = model(X)\n",
    "            # Performance loss\n",
    "            loss = loss_fn(y_logits, y)\n",
    "            # Addition of spatial loss\n",
    "            if spatial:\n",
    "                loss += lambda_regularization * spatial_loss(model.linear.weight, spatial_grid_width)\n",
    "            # Making predictions\n",
    "            yp = torch.argmax(y_logits, dim=1)\n",
    "            # Saving predictions\n",
    "            y_preds = torch.cat((y_preds, yp), dim=0)\n",
    "            # Saving targets\n",
    "            y_targets = torch.cat((y_targets, y), dim=0)\n",
    "\n",
    "            avg_loss += loss\n",
    "\n",
    "    return y_preds, y_targets, avg_loss / len(test_data)\n"
   ],
   "id": "c8bd9217d2865f0b",
   "outputs": [],
   "execution_count": 180
  },
  {
   "metadata": {},
   "cell_type": "markdown",
   "source": "### Useful functions",
   "id": "ac943279cf170686"
  },
  {
   "metadata": {
    "ExecuteTime": {
     "end_time": "2025-06-03T06:15:12.776995Z",
     "start_time": "2025-06-03T06:15:12.772814Z"
    }
   },
   "cell_type": "code",
   "source": [
    "def accuracy_plot(train_acc, valid_acc):\n",
    "    \"\"\"\n",
    "    Function to plot the change of accuracy during training.\n",
    "    \"\"\"\n",
    "    # accuracy plots\n",
    "    plt.figure(figsize=(10, 7))\n",
    "    plt.plot(\n",
    "        train_acc, color='red', linestyle='-',\n",
    "        label='train accuracy'\n",
    "    )\n",
    "    plt.plot(\n",
    "        valid_acc, color='blue', linestyle='-',\n",
    "        label='validation accuracy'\n",
    "    )\n",
    "    plt.xlabel('Epochs')\n",
    "    plt.ylabel('Accuracy')\n",
    "    plt.legend()\n",
    "\n",
    "def loss_plot(train_loss, valid_loss):\n",
    "    \"\"\"\n",
    "    Function to plot the change of loss during training.\n",
    "    \"\"\"\n",
    "    # loss plots\n",
    "    plt.figure(figsize=(10, 7))\n",
    "    plt.plot(\n",
    "        train_loss, color='red', linestyle='-',\n",
    "        label='train loss'\n",
    "    )\n",
    "    plt.plot(\n",
    "        valid_loss, color='blue', linestyle='-',\n",
    "        label='validation loss'\n",
    "    )\n",
    "    plt.xlabel('Epochs')\n",
    "    plt.ylabel('Loss')\n",
    "    plt.legend()"
   ],
   "id": "1f7f83612568cfa8",
   "outputs": [],
   "execution_count": 116
  },
  {
   "metadata": {},
   "cell_type": "markdown",
   "source": "### Training loop",
   "id": "4580207a8ad14c05"
  },
  {
   "metadata": {
    "ExecuteTime": {
     "end_time": "2025-06-13T16:00:18.012361Z",
     "start_time": "2025-06-13T16:00:18.007283Z"
    }
   },
   "cell_type": "code",
   "source": [
    "def train_model(model, train_loader, test_loader, epochs, loss_fn, optimizer,\n",
    "                spatial=False, lambda_regularization=0.0, spatial_grid_width=6):\n",
    "\n",
    "    # Since dataset is more or less balanced, we will use accuracy metric\n",
    "    accuracy = torchmetrics.Accuracy(task='multiclass', num_classes=2).to(DEVICE)\n",
    "    best_loss = float('inf')\n",
    "    best_checkpoint = {}\n",
    "    loss_history = {\n",
    "        'train_loss': [],\n",
    "        'valid_loss': [],\n",
    "    }\n",
    "    for epoch in tqdm(range(epochs)):\n",
    "\n",
    "        predictions, targets, train_loss = train_step(model, train_loader, loss_fn, optimizer, lambda_regularization=lambda_regularization,\n",
    "                                spatial=spatial, spatial_grid_width=spatial_grid_width)\n",
    "\n",
    "        train_acc = accuracy(predictions, targets)\n",
    "\n",
    "        predictions, targets, test_loss = test_step(model, test_loader, loss_fn, lambda_regularization=lambda_regularization,\n",
    "                                                    spatial=spatial, spatial_grid_width=spatial_grid_width)\n",
    "        test_acc = accuracy(predictions, targets)\n",
    "\n",
    "        print(f'After epoch {epoch}, average training loss is {train_loss:.4f}, average test loss is {test_loss:.4f}, accuracy on train set is {train_acc * 100:.2f} and accuracy on test set is {test_acc * 100:.2f}%')\n",
    "\n",
    "        loss_history['train_loss'].append(train_loss.item())\n",
    "        loss_history['valid_loss'].append(test_loss.item())\n",
    "\n",
    "        # Saving model with the lowest test loss\n",
    "        if test_loss < best_loss:\n",
    "            best_loss = test_loss\n",
    "            best_checkpoint = {\n",
    "                'epoch': epoch,\n",
    "                'state_dict': copy.deepcopy(model.state_dict()),\n",
    "                'accuracy': test_acc,\n",
    "                'loss': test_loss,\n",
    "            }\n",
    "\n",
    "    return best_checkpoint, loss_history"
   ],
   "id": "e7999d0f8c002ed4",
   "outputs": [],
   "execution_count": 200
  },
  {
   "metadata": {},
   "cell_type": "markdown",
   "source": "### Cross-validation loop",
   "id": "c8be361b99bc38b1"
  },
  {
   "metadata": {
    "ExecuteTime": {
     "end_time": "2025-06-13T16:04:53.629324Z",
     "start_time": "2025-06-13T16:04:53.622157Z"
    }
   },
   "cell_type": "code",
   "source": [
    "def train_with_cross_validation(model_class, model_params: dict, data, epochs, random_seed=42):\n",
    "    \"\"\"\n",
    "    Function to train several models using 10-fold cross validation.\n",
    "    :param model_class: class of model we want to train.\n",
    "    :param model_params: parameters for models. ['model'] - parameters of model, ['spatial'] - parameters for spatial component.\n",
    "    :param data:\n",
    "    :param epochs:\n",
    "    :param random_seed:\n",
    "    :return: trained models with additional information.\n",
    "    \"\"\"\n",
    "    accuracy = torchmetrics.Accuracy(task='multiclass', num_classes=2).to(DEVICE)\n",
    "\n",
    "    # Prepare data\n",
    "    test_size = int(0.1 * len(data))\n",
    "    torch.manual_seed(random_seed)\n",
    "    torch.cuda.manual_seed(random_seed)\n",
    "    dataset, test_dataset = random_split(data, [len(data) - test_size, test_size])\n",
    "    test_loader = torch.utils.data.DataLoader(test_dataset, batch_size=64, shuffle=False)\n",
    "\n",
    "    resulting_models = []\n",
    "    # Prepare folds\n",
    "    kfold = KFold(n_splits=10, shuffle=True, random_state=random_seed)\n",
    "    for train_idx, val_idx in tqdm(kfold.split(dataset), total=10):\n",
    "        # Prepare data loaders\n",
    "        train_subset = Subset(dataset, train_idx)\n",
    "        val_subset = Subset(dataset, val_idx)\n",
    "        train_loader = DataLoader(train_subset, batch_size=64, shuffle=False)\n",
    "        validation_loader = DataLoader(val_subset, batch_size=64, shuffle=False)\n",
    "\n",
    "        # Train one model. We get the best checkpoint\n",
    "        model = model_class(**model_params['model']).to(DEVICE)\n",
    "        optimizer = torch.optim.Adam(model.parameters(), lr=0.01)\n",
    "        loss_fn = torch.nn.CrossEntropyLoss()\n",
    "        best_checkpoint, loss_history = train_model(model, train_loader, validation_loader, epochs, loss_fn, optimizer, **model_params['spatial'])\n",
    "\n",
    "        # Load the best checkpoint\n",
    "        model = model_class(**model_params['model']).to(DEVICE)\n",
    "        model.load_state_dict(best_checkpoint['state_dict'])\n",
    "        model.eval()\n",
    "\n",
    "        # Test the best checkpoint and save results\n",
    "        predictions, targets, test_loss = test_step(model, test_loader, loss_fn, **model_params['spatial'])\n",
    "        test_acc = accuracy(predictions, targets)\n",
    "        resulting_models.append({\n",
    "            'model': copy.deepcopy(model.state_dict()),\n",
    "            'test_accuracy': test_acc,\n",
    "            'test_loss': test_loss,\n",
    "            'epoch': best_checkpoint['epoch'],\n",
    "            'loss_history': loss_history,\n",
    "        })\n",
    "\n",
    "    return resulting_models\n"
   ],
   "id": "4b45a961e931fad1",
   "outputs": [],
   "execution_count": 206
  },
  {
   "metadata": {},
   "cell_type": "markdown",
   "source": "### Training hyperparameters",
   "id": "d0fe88bfc0256ca4"
  },
  {
   "metadata": {
    "ExecuteTime": {
     "end_time": "2025-06-03T06:36:03.992712Z",
     "start_time": "2025-06-03T06:36:03.990076Z"
    }
   },
   "cell_type": "code",
   "source": [
    "RANDOM_SEED = 42 # For reproducibility. To later models with different random initializations.\n",
    "SPATIAL_REGULARIZATION = 0.3 # I'm using same regularization as in previous experiment\n",
    "DEVICE = 'cuda:0' if torch.cuda.is_available() else 'cpu'"
   ],
   "id": "51757b533e81e62f",
   "outputs": [],
   "execution_count": 127
  },
  {
   "metadata": {},
   "cell_type": "markdown",
   "source": "### EEGNet without spatial loss",
   "id": "21cbfee8d2e44be3"
  },
  {
   "metadata": {},
   "cell_type": "markdown",
   "source": "Initialization",
   "id": "cdda0c251ba30adc"
  },
  {
   "metadata": {
    "ExecuteTime": {
     "end_time": "2025-06-03T06:41:20.140551Z",
     "start_time": "2025-06-03T06:41:20.081085Z"
    }
   },
   "cell_type": "code",
   "source": [
    "torch.manual_seed(RANDOM_SEED)\n",
    "torch.cuda.manual_seed(RANDOM_SEED)\n",
    "\n",
    "model = EEGNet(sensors=360, samples=500, num_classes=2, f1=8, depth=2, f2=16, dropout=0.5).to(DEVICE)\n",
    "loss_fn = nn.CrossEntropyLoss()\n",
    "optimizer = torch.optim.Adam(model.parameters(), lr=0.001)"
   ],
   "id": "2c2637010d8b6e5b",
   "outputs": [],
   "execution_count": 134
  },
  {
   "metadata": {},
   "cell_type": "markdown",
   "source": "Training",
   "id": "13489a3cd2d8a764"
  },
  {
   "metadata": {
    "ExecuteTime": {
     "end_time": "2025-06-03T06:42:33.764797Z",
     "start_time": "2025-06-03T06:41:22.625157Z"
    }
   },
   "cell_type": "code",
   "source": "best_model, loss_history = train_model(model, train_loader, test_loader, epochs=50, loss_fn=loss_fn, optimizer=optimizer)",
   "id": "d491c3839d541a11",
   "outputs": [
    {
     "data": {
      "text/plain": [
       "  0%|          | 0/50 [00:00<?, ?it/s]"
      ],
      "application/vnd.jupyter.widget-view+json": {
       "version_major": 2,
       "version_minor": 0,
       "model_id": "340efcdf007348c49f35e45692d79b05"
      }
     },
     "metadata": {},
     "output_type": "display_data"
    },
    {
     "name": "stdout",
     "output_type": "stream",
     "text": [
      "After epoch 0, average training loss is 0.6954, average test loss is 0.6912 and accuracy on test set is 54.17%\n",
      "After epoch 1, average training loss is 0.6948, average test loss is 0.6914 and accuracy on test set is 54.17%\n",
      "After epoch 2, average training loss is 0.6966, average test loss is 0.6917 and accuracy on test set is 54.17%\n",
      "After epoch 3, average training loss is 0.6890, average test loss is 0.6920 and accuracy on test set is 54.17%\n",
      "After epoch 4, average training loss is 0.6992, average test loss is 0.6921 and accuracy on test set is 54.17%\n",
      "After epoch 5, average training loss is 0.6912, average test loss is 0.6920 and accuracy on test set is 54.17%\n",
      "After epoch 6, average training loss is 0.6979, average test loss is 0.6920 and accuracy on test set is 54.17%\n",
      "After epoch 7, average training loss is 0.6948, average test loss is 0.6928 and accuracy on test set is 54.17%\n",
      "After epoch 8, average training loss is 0.6943, average test loss is 0.6922 and accuracy on test set is 54.17%\n",
      "After epoch 9, average training loss is 0.6963, average test loss is 0.6919 and accuracy on test set is 54.17%\n",
      "After epoch 10, average training loss is 0.6916, average test loss is 0.7098 and accuracy on test set is 45.83%\n",
      "After epoch 11, average training loss is 0.6910, average test loss is 0.9403 and accuracy on test set is 45.83%\n",
      "After epoch 12, average training loss is 0.6911, average test loss is 0.7945 and accuracy on test set is 45.83%\n",
      "After epoch 13, average training loss is 0.6930, average test loss is 1.9120 and accuracy on test set is 54.17%\n",
      "After epoch 14, average training loss is 0.6941, average test loss is 5.7541 and accuracy on test set is 54.17%\n",
      "After epoch 15, average training loss is 0.6855, average test loss is 0.9439 and accuracy on test set is 45.83%\n",
      "After epoch 16, average training loss is 0.6901, average test loss is 22.7906 and accuracy on test set is 45.83%\n",
      "After epoch 17, average training loss is 0.6959, average test loss is 39.2715 and accuracy on test set is 45.83%\n",
      "After epoch 18, average training loss is 0.6834, average test loss is 41.4208 and accuracy on test set is 45.83%\n",
      "After epoch 19, average training loss is 0.6803, average test loss is 44.0876 and accuracy on test set is 45.83%\n",
      "After epoch 20, average training loss is 0.6788, average test loss is 93.0304 and accuracy on test set is 45.83%\n",
      "After epoch 21, average training loss is 0.6567, average test loss is 144.6768 and accuracy on test set is 45.83%\n",
      "After epoch 22, average training loss is 0.6424, average test loss is 48.8839 and accuracy on test set is 45.83%\n",
      "After epoch 23, average training loss is 0.6167, average test loss is 1.1029 and accuracy on test set is 54.17%\n",
      "After epoch 24, average training loss is 0.5682, average test loss is 71.4180 and accuracy on test set is 45.83%\n",
      "After epoch 25, average training loss is 0.5525, average test loss is 417.0326 and accuracy on test set is 45.83%\n",
      "After epoch 26, average training loss is 0.5113, average test loss is 561.1219 and accuracy on test set is 45.83%\n",
      "After epoch 27, average training loss is 0.4826, average test loss is 614.1220 and accuracy on test set is 45.83%\n",
      "After epoch 28, average training loss is 0.4680, average test loss is 931.4465 and accuracy on test set is 45.83%\n",
      "After epoch 29, average training loss is 0.4208, average test loss is 937.3357 and accuracy on test set is 45.83%\n",
      "After epoch 30, average training loss is 0.4631, average test loss is 930.0211 and accuracy on test set is 45.83%\n",
      "After epoch 31, average training loss is 0.4378, average test loss is 1063.3051 and accuracy on test set is 45.83%\n",
      "After epoch 32, average training loss is 0.4163, average test loss is 808.1099 and accuracy on test set is 45.83%\n",
      "After epoch 33, average training loss is 0.3994, average test loss is 677.6909 and accuracy on test set is 45.83%\n",
      "After epoch 34, average training loss is 0.3563, average test loss is 1560.3726 and accuracy on test set is 45.83%\n",
      "After epoch 35, average training loss is 0.3257, average test loss is 1475.2529 and accuracy on test set is 45.83%\n",
      "After epoch 36, average training loss is 0.2798, average test loss is 1064.4994 and accuracy on test set is 45.83%\n",
      "After epoch 37, average training loss is 0.2525, average test loss is 674.1033 and accuracy on test set is 45.83%\n",
      "After epoch 38, average training loss is 0.2586, average test loss is 477.3701 and accuracy on test set is 45.83%\n",
      "After epoch 39, average training loss is 0.2427, average test loss is 1733.7012 and accuracy on test set is 45.83%\n",
      "After epoch 40, average training loss is 0.2330, average test loss is 1432.2065 and accuracy on test set is 45.83%\n",
      "After epoch 41, average training loss is 0.1864, average test loss is 1802.6895 and accuracy on test set is 45.83%\n",
      "After epoch 42, average training loss is 0.1716, average test loss is 1973.1216 and accuracy on test set is 45.83%\n",
      "After epoch 43, average training loss is 0.1637, average test loss is 772.0303 and accuracy on test set is 45.83%\n",
      "After epoch 44, average training loss is 0.1380, average test loss is 639.0187 and accuracy on test set is 45.83%\n",
      "After epoch 45, average training loss is 0.1410, average test loss is 225.8342 and accuracy on test set is 45.83%\n",
      "After epoch 46, average training loss is 0.1211, average test loss is 738.6837 and accuracy on test set is 54.17%\n",
      "After epoch 47, average training loss is 0.0565, average test loss is 684.3156 and accuracy on test set is 54.17%\n",
      "After epoch 48, average training loss is 0.0956, average test loss is 612.2965 and accuracy on test set is 54.17%\n",
      "After epoch 49, average training loss is 0.0896, average test loss is 1366.6112 and accuracy on test set is 54.17%\n"
     ]
    }
   ],
   "execution_count": 135
  },
  {
   "metadata": {},
   "cell_type": "markdown",
   "source": "Results",
   "id": "73cb308947378454"
  },
  {
   "metadata": {
    "ExecuteTime": {
     "end_time": "2025-06-03T06:42:38.011298Z",
     "start_time": "2025-06-03T06:42:37.593224Z"
    }
   },
   "cell_type": "code",
   "source": [
    "loss_plot(loss_history['train_loss'], loss_history['valid_loss'])\n",
    "\n",
    "print(f'Best model appeared at the epoch {best_model[\"epoch\"]} with an accuracy of {best_model[\"accuracy\"] * 100:.2f}%')"
   ],
   "id": "dd254ae2d80d1ae4",
   "outputs": [
    {
     "name": "stdout",
     "output_type": "stream",
     "text": [
      "Best model appeared at the epoch 0 with an accuracy of 54.17%\n"
     ]
    },
    {
     "data": {
      "text/plain": [
       "<Figure size 1000x700 with 1 Axes>"
      ],
      "image/png": "[encoded data removed]"
     },
     "metadata": {},
     "output_type": "display_data"
    }
   ],
   "execution_count": 136
  },
  {
   "metadata": {},
   "cell_type": "markdown",
   "source": "### EEGNet with spatial loss",
   "id": "8dee21fee78d34a0"
  },
  {
   "metadata": {},
   "cell_type": "markdown",
   "source": "Initialization",
   "id": "c94e4eaae99117a1"
  },
  {
   "metadata": {
    "ExecuteTime": {
     "end_time": "2025-06-03T06:44:26.882131Z",
     "start_time": "2025-06-03T06:44:26.842301Z"
    }
   },
   "cell_type": "code",
   "source": [
    "torch.manual_seed(RANDOM_SEED)\n",
    "torch.cuda.manual_seed(RANDOM_SEED)\n",
    "\n",
    "model = EEGNet(sensors=360, samples=500, num_classes=2, f1=8, depth=2, f2=16, dropout=0.5).to(DEVICE)\n",
    "loss_fn = nn.CrossEntropyLoss()\n",
    "optimizer = torch.optim.Adam(model.parameters(), lr=0.001)"
   ],
   "id": "99d9aaf3ebe4b6d2",
   "outputs": [],
   "execution_count": 137
  },
  {
   "metadata": {},
   "cell_type": "markdown",
   "source": "Training",
   "id": "2a57ed4de4f07c0c"
  },
  {
   "metadata": {
    "ExecuteTime": {
     "end_time": "2025-06-03T06:45:49.486643Z",
     "start_time": "2025-06-03T06:44:30.175742Z"
    }
   },
   "cell_type": "code",
   "source": [
    "best_model, loss_history = train_model(model, train_loader, test_loader, epochs=50, loss_fn=loss_fn, optimizer=optimizer,\n",
    "                                       lambda_regularization=SPATIAL_REGULARIZATION, spatial=True, spatial_grid_width=6)"
   ],
   "id": "b546a31d396420b1",
   "outputs": [
    {
     "data": {
      "text/plain": [
       "  0%|          | 0/50 [00:00<?, ?it/s]"
      ],
      "application/vnd.jupyter.widget-view+json": {
       "version_major": 2,
       "version_minor": 0,
       "model_id": "78c160d57afe4a7bb86ef4e48a2d321e"
      }
     },
     "metadata": {},
     "output_type": "display_data"
    },
    {
     "name": "stdout",
     "output_type": "stream",
     "text": [
      "After epoch 0, average training loss is 0.9262, average test loss is 0.9028 and accuracy on test set is 54.17%\n",
      "After epoch 1, average training loss is 0.8941, average test loss is 0.8742 and accuracy on test set is 54.17%\n",
      "After epoch 2, average training loss is 0.8663, average test loss is 0.8487 and accuracy on test set is 54.17%\n",
      "After epoch 3, average training loss is 0.8365, average test loss is 0.8254 and accuracy on test set is 54.17%\n",
      "After epoch 4, average training loss is 0.8206, average test loss is 0.8041 and accuracy on test set is 54.17%\n",
      "After epoch 5, average training loss is 0.7961, average test loss is 0.7852 and accuracy on test set is 54.17%\n",
      "After epoch 6, average training loss is 0.7819, average test loss is 0.7686 and accuracy on test set is 54.17%\n",
      "After epoch 7, average training loss is 0.7635, average test loss is 0.7546 and accuracy on test set is 54.17%\n",
      "After epoch 8, average training loss is 0.7523, average test loss is 0.7447 and accuracy on test set is 54.17%\n",
      "After epoch 9, average training loss is 0.7438, average test loss is 0.7460 and accuracy on test set is 45.83%\n",
      "After epoch 10, average training loss is 0.7322, average test loss is 0.8115 and accuracy on test set is 45.83%\n",
      "After epoch 11, average training loss is 0.7300, average test loss is 0.9557 and accuracy on test set is 45.83%\n",
      "After epoch 12, average training loss is 0.7240, average test loss is 0.7188 and accuracy on test set is 54.17%\n",
      "After epoch 13, average training loss is 0.7189, average test loss is 0.8400 and accuracy on test set is 54.17%\n",
      "After epoch 14, average training loss is 0.7165, average test loss is 1.1061 and accuracy on test set is 54.17%\n",
      "After epoch 15, average training loss is 0.7104, average test loss is 0.7204 and accuracy on test set is 54.17%\n",
      "After epoch 16, average training loss is 0.7088, average test loss is 1.1372 and accuracy on test set is 45.83%\n",
      "After epoch 17, average training loss is 0.7062, average test loss is 1.1334 and accuracy on test set is 45.83%\n",
      "After epoch 18, average training loss is 0.7044, average test loss is 0.9574 and accuracy on test set is 54.17%\n",
      "After epoch 19, average training loss is 0.7018, average test loss is 1.1762 and accuracy on test set is 54.17%\n",
      "After epoch 20, average training loss is 0.7001, average test loss is 4.1171 and accuracy on test set is 45.83%\n",
      "After epoch 21, average training loss is 0.6994, average test loss is 33.4840 and accuracy on test set is 45.83%\n",
      "After epoch 22, average training loss is 0.6929, average test loss is 33.1663 and accuracy on test set is 45.83%\n",
      "After epoch 23, average training loss is 0.6891, average test loss is 56.1732 and accuracy on test set is 45.83%\n",
      "After epoch 24, average training loss is 0.6684, average test loss is 60.0999 and accuracy on test set is 45.83%\n",
      "After epoch 25, average training loss is 0.6338, average test loss is 358.7716 and accuracy on test set is 45.83%\n",
      "After epoch 26, average training loss is 0.5778, average test loss is 1017.6702 and accuracy on test set is 45.83%\n",
      "After epoch 27, average training loss is 0.5121, average test loss is 1037.5161 and accuracy on test set is 45.83%\n",
      "After epoch 28, average training loss is 0.4903, average test loss is 1198.3733 and accuracy on test set is 45.83%\n",
      "After epoch 29, average training loss is 0.4747, average test loss is 624.2819 and accuracy on test set is 45.83%\n",
      "After epoch 30, average training loss is 0.4915, average test loss is 695.9561 and accuracy on test set is 45.83%\n",
      "After epoch 31, average training loss is 0.4515, average test loss is 540.6086 and accuracy on test set is 45.83%\n",
      "After epoch 32, average training loss is 0.4388, average test loss is 690.8214 and accuracy on test set is 45.83%\n",
      "After epoch 33, average training loss is 0.4259, average test loss is 1157.2283 and accuracy on test set is 45.83%\n",
      "After epoch 34, average training loss is 0.3956, average test loss is 1419.4305 and accuracy on test set is 45.83%\n",
      "After epoch 35, average training loss is 0.3894, average test loss is 1464.7153 and accuracy on test set is 45.83%\n",
      "After epoch 36, average training loss is 0.3534, average test loss is 1181.8894 and accuracy on test set is 45.83%\n",
      "After epoch 37, average training loss is 0.3432, average test loss is 871.3890 and accuracy on test set is 45.83%\n",
      "After epoch 38, average training loss is 0.3596, average test loss is 961.8495 and accuracy on test set is 45.83%\n",
      "After epoch 39, average training loss is 0.3783, average test loss is 1083.1167 and accuracy on test set is 45.83%\n",
      "After epoch 40, average training loss is 0.2981, average test loss is 1226.1746 and accuracy on test set is 45.83%\n",
      "After epoch 41, average training loss is 0.2641, average test loss is 941.8702 and accuracy on test set is 45.83%\n",
      "After epoch 42, average training loss is 0.2515, average test loss is 1379.4048 and accuracy on test set is 45.83%\n",
      "After epoch 43, average training loss is 0.2328, average test loss is 1513.8080 and accuracy on test set is 45.83%\n",
      "After epoch 44, average training loss is 0.2187, average test loss is 1347.3922 and accuracy on test set is 45.83%\n",
      "After epoch 45, average training loss is 0.2580, average test loss is 241.4593 and accuracy on test set is 45.83%\n",
      "After epoch 46, average training loss is 0.1835, average test loss is 1038.5835 and accuracy on test set is 45.83%\n",
      "After epoch 47, average training loss is 0.1841, average test loss is 523.2516 and accuracy on test set is 54.17%\n",
      "After epoch 48, average training loss is 0.1355, average test loss is 427.8192 and accuracy on test set is 54.17%\n",
      "After epoch 49, average training loss is 0.2141, average test loss is 341.9938 and accuracy on test set is 45.83%\n"
     ]
    }
   ],
   "execution_count": 138
  },
  {
   "metadata": {},
   "cell_type": "markdown",
   "source": "Results",
   "id": "6a04334c07fd1bcd"
  },
  {
   "metadata": {
    "ExecuteTime": {
     "end_time": "2025-06-03T06:45:54.654681Z",
     "start_time": "2025-06-03T06:45:54.528955Z"
    }
   },
   "cell_type": "code",
   "source": [
    "loss_plot(loss_history['train_loss'], loss_history['valid_loss'])\n",
    "\n",
    "print(f'Best model appeared at the epoch {best_model[\"epoch\"]} with an accuracy of {best_model[\"accuracy\"] * 100:.2f}%')"
   ],
   "id": "fef8b2bd850fbc7b",
   "outputs": [
    {
     "name": "stdout",
     "output_type": "stream",
     "text": [
      "Best model appeared at the epoch 12 with an accuracy of 54.17%\n"
     ]
    },
    {
     "data": {
      "text/plain": [
       "<Figure size 1000x700 with 1 Axes>"
      ],
      "image/png": "[encoded data removed]"
     },
     "metadata": {},
     "output_type": "display_data"
    }
   ],
   "execution_count": 139
  },
  {
   "metadata": {},
   "cell_type": "markdown",
   "source": [
    "### Sanity check - synthetic dataset\n",
    "We create synthetic dataset with different sine patterns in order to check, if our model can learn at all."
   ],
   "id": "494506ce387d3131"
  },
  {
   "metadata": {
    "ExecuteTime": {
     "end_time": "2025-06-05T06:49:44.161944Z",
     "start_time": "2025-06-05T06:49:41.471604Z"
    }
   },
   "cell_type": "code",
   "source": [
    "pattern_freq_1 = [32, 40, 64] # Sine frequencies for the first pattern\n",
    "pattern_freq_2 = [41, 57, 73] # Sine frequencies for the second pattern\n",
    "\n",
    "synthetic_dataset = []\n",
    "for _ in range(500): # Amount of data for the first pattern\n",
    "    trial = np.empty([0, 200])\n",
    "    for _ in range(100):\n",
    "        start = random.random() * np.pi # To start from random phase\n",
    "        time = np.linspace(start, start + np.pi, 200)\n",
    "        data = np.zeros(200)\n",
    "        for pattern in pattern_freq_1:\n",
    "            data += np.sin(2 * np.pi * pattern * time) # Here we sum sine patterns together\n",
    "        data = np.reshape(data, (1, 200))\n",
    "        trial = np.append(trial, data, axis=0)\n",
    "    synthetic_dataset.append((np.float32(trial), 0))\n",
    "\n",
    "for _ in range(500): # Same for the second pattern\n",
    "    trial = np.empty([0, 200])\n",
    "    for _ in range(100):\n",
    "        start = random.random() * np.pi\n",
    "        time = np.linspace(start, start + np.pi, 200)\n",
    "        data = np.zeros(200)\n",
    "        for pattern in pattern_freq_2:\n",
    "            data += np.sin(2 * np.pi * pattern * time)\n",
    "        data = np.reshape(data, (1, 200))\n",
    "        trial = np.append(trial, data, axis=0)\n",
    "    synthetic_dataset.append((np.float32(trial), 1))\n",
    "\n",
    "syn_train_dataset, syn_test_dataset = random_split(synthetic_dataset, [len(synthetic_dataset) - test_size, test_size])\n",
    "\n",
    "syn_train_loader = DataLoader(syn_train_dataset, batch_size=32, shuffle=True)\n",
    "syn_test_loader = DataLoader(syn_test_dataset, batch_size=32)"
   ],
   "id": "c658fc014c4af72d",
   "outputs": [],
   "execution_count": 167
  },
  {
   "metadata": {
    "ExecuteTime": {
     "end_time": "2025-06-05T06:49:44.986367Z",
     "start_time": "2025-06-05T06:49:44.944743Z"
    }
   },
   "cell_type": "code",
   "source": [
    "model = EEGNet(sensors=100, samples=200, num_classes=2, f1=8, depth=2, f2=16, dropout=0.5).to(DEVICE)\n",
    "loss_fn = nn.CrossEntropyLoss()\n",
    "optimizer = torch.optim.Adam(model.parameters(), lr=0.001)"
   ],
   "id": "3a16da9a40492bc4",
   "outputs": [],
   "execution_count": 168
  },
  {
   "metadata": {
    "ExecuteTime": {
     "end_time": "2025-06-05T06:49:48.977742Z",
     "start_time": "2025-06-05T06:49:46.759120Z"
    }
   },
   "cell_type": "code",
   "source": "best_model, loss_history = train_model(model, syn_train_loader, syn_test_loader, epochs=5, loss_fn=loss_fn, optimizer=optimizer)",
   "id": "8d12511510430e6",
   "outputs": [
    {
     "data": {
      "text/plain": [
       "  0%|          | 0/5 [00:00<?, ?it/s]"
      ],
      "application/vnd.jupyter.widget-view+json": {
       "version_major": 2,
       "version_minor": 0,
       "model_id": "745582c2d80947639e1a9506965a45d1"
      }
     },
     "metadata": {},
     "output_type": "display_data"
    },
    {
     "name": "stdout",
     "output_type": "stream",
     "text": [
      "After epoch 0, average training loss is 0.3370, average test loss is 0.0575 and accuracy on test set is 100.00%\n",
      "After epoch 1, average training loss is 0.0123, average test loss is 0.0023 and accuracy on test set is 100.00%\n",
      "After epoch 2, average training loss is 0.0027, average test loss is 0.0013 and accuracy on test set is 100.00%\n",
      "After epoch 3, average training loss is 0.0018, average test loss is 0.0008 and accuracy on test set is 100.00%\n",
      "After epoch 4, average training loss is 0.0014, average test loss is 0.0008 and accuracy on test set is 100.00%\n"
     ]
    }
   ],
   "execution_count": 169
  },
  {
   "metadata": {
    "ExecuteTime": {
     "end_time": "2025-06-05T06:50:06.789577Z",
     "start_time": "2025-06-05T06:50:06.651713Z"
    }
   },
   "cell_type": "code",
   "source": [
    "loss_plot(loss_history['train_loss'], loss_history['valid_loss'])\n",
    "\n",
    "print(f'Best model appeared at the epoch {best_model[\"epoch\"]} with an accuracy of {best_model[\"accuracy\"] * 100:.2f}%')"
   ],
   "id": "99f5a51bf6a0af06",
   "outputs": [
    {
     "name": "stdout",
     "output_type": "stream",
     "text": [
      "Best model appeared at the epoch 3 with an accuracy of 100.00%\n"
     ]
    },
    {
     "data": {
      "text/plain": [
       "<Figure size 1000x700 with 1 Axes>"
      ],
      "image/png": "[encoded data removed]"
     },
     "metadata": {},
     "output_type": "display_data"
    }
   ],
   "execution_count": 170
  },
  {
   "metadata": {},
   "cell_type": "markdown",
   "source": "## Testing with cross-validation",
   "id": "98f3181e89aa373e"
  },
  {
   "metadata": {
    "ExecuteTime": {
     "end_time": "2025-06-13T16:12:13.883465Z",
     "start_time": "2025-06-13T16:11:46.871384Z"
    }
   },
   "cell_type": "code",
   "source": [
    "parameters = {\n",
    "    'model': {\n",
    "        'sensors': 360,\n",
    "        'samples': 500,\n",
    "        'num_classes': 2\n",
    "    },\n",
    "    'spatial': {\n",
    "        'spatial': False\n",
    "    }\n",
    "}\n",
    "\n",
    "ensemble = train_with_cross_validation(EEGNet, parameters, data, epochs=5)"
   ],
   "id": "4b9513380f90b79d",
   "outputs": [
    {
     "data": {
      "text/plain": [
       "  0%|          | 0/10 [00:00<?, ?it/s]"
      ],
      "application/vnd.jupyter.widget-view+json": {
       "version_major": 2,
       "version_minor": 0,
       "model_id": "c2621d3ce4284d998178d12b1803dc60"
      }
     },
     "metadata": {},
     "output_type": "display_data"
    },
    {
     "data": {
      "text/plain": [
       "  0%|          | 0/5 [00:00<?, ?it/s]"
      ],
      "application/vnd.jupyter.widget-view+json": {
       "version_major": 2,
       "version_minor": 0,
       "model_id": "b1eb2819c43944daab157f0da547e2e2"
      }
     },
     "metadata": {},
     "output_type": "display_data"
    },
    {
     "name": "stdout",
     "output_type": "stream",
     "text": [
      "After epoch 0, average training loss is 0.7040, average test loss is 0.6961, accuracy on train set is 50.76 and accuracy on test set is 50.00%\n",
      "After epoch 1, average training loss is 0.7094, average test loss is 0.6947, accuracy on train set is 54.31 and accuracy on test set is 50.00%\n",
      "After epoch 2, average training loss is 0.7116, average test loss is 0.6972, accuracy on train set is 51.78 and accuracy on test set is 50.00%\n",
      "After epoch 3, average training loss is 0.7095, average test loss is 0.6988, accuracy on train set is 49.75 and accuracy on test set is 50.00%\n",
      "After epoch 4, average training loss is 0.6872, average test loss is 0.6988, accuracy on train set is 51.78 and accuracy on test set is 50.00%\n"
     ]
    },
    {
     "data": {
      "text/plain": [
       "  0%|          | 0/5 [00:00<?, ?it/s]"
      ],
      "application/vnd.jupyter.widget-view+json": {
       "version_major": 2,
       "version_minor": 0,
       "model_id": "96acb00292384320b2c5e37be489d689"
      }
     },
     "metadata": {},
     "output_type": "display_data"
    },
    {
     "name": "stdout",
     "output_type": "stream",
     "text": [
      "After epoch 0, average training loss is 0.7014, average test loss is 0.6994, accuracy on train set is 55.84 and accuracy on test set is 45.45%\n",
      "After epoch 1, average training loss is 0.7055, average test loss is 0.7223, accuracy on train set is 47.21 and accuracy on test set is 45.45%\n",
      "After epoch 2, average training loss is 0.7528, average test loss is 0.7267, accuracy on train set is 46.19 and accuracy on test set is 45.45%\n",
      "After epoch 3, average training loss is 0.7172, average test loss is 0.6910, accuracy on train set is 47.72 and accuracy on test set is 54.55%\n",
      "After epoch 4, average training loss is 0.7030, average test loss is 0.6950, accuracy on train set is 48.73 and accuracy on test set is 54.55%\n"
     ]
    },
    {
     "data": {
      "text/plain": [
       "  0%|          | 0/5 [00:00<?, ?it/s]"
      ],
      "application/vnd.jupyter.widget-view+json": {
       "version_major": 2,
       "version_minor": 0,
       "model_id": "aecc405737e24152a443e79fd47544bc"
      }
     },
     "metadata": {},
     "output_type": "display_data"
    },
    {
     "name": "stdout",
     "output_type": "stream",
     "text": [
      "After epoch 0, average training loss is 0.7360, average test loss is 0.6818, accuracy on train set is 49.24 and accuracy on test set is 59.09%\n",
      "After epoch 1, average training loss is 0.7136, average test loss is 0.6847, accuracy on train set is 45.18 and accuracy on test set is 59.09%\n",
      "After epoch 2, average training loss is 0.7076, average test loss is 0.6868, accuracy on train set is 47.21 and accuracy on test set is 59.09%\n",
      "After epoch 3, average training loss is 0.7156, average test loss is 0.6826, accuracy on train set is 46.70 and accuracy on test set is 59.09%\n",
      "After epoch 4, average training loss is 0.6774, average test loss is 0.6793, accuracy on train set is 51.78 and accuracy on test set is 59.09%\n"
     ]
    },
    {
     "data": {
      "text/plain": [
       "  0%|          | 0/5 [00:00<?, ?it/s]"
      ],
      "application/vnd.jupyter.widget-view+json": {
       "version_major": 2,
       "version_minor": 0,
       "model_id": "8316d4573d1b4f67863552a898d9c8e2"
      }
     },
     "metadata": {},
     "output_type": "display_data"
    },
    {
     "name": "stdout",
     "output_type": "stream",
     "text": [
      "After epoch 0, average training loss is 0.7110, average test loss is 0.6844, accuracy on train set is 47.21 and accuracy on test set is 59.09%\n",
      "After epoch 1, average training loss is 0.7157, average test loss is 0.6801, accuracy on train set is 51.27 and accuracy on test set is 59.09%\n",
      "After epoch 2, average training loss is 0.7040, average test loss is 0.6786, accuracy on train set is 53.30 and accuracy on test set is 59.09%\n",
      "After epoch 3, average training loss is 0.6840, average test loss is 0.6787, accuracy on train set is 49.24 and accuracy on test set is 59.09%\n",
      "After epoch 4, average training loss is 0.6984, average test loss is 0.6768, accuracy on train set is 47.21 and accuracy on test set is 59.09%\n"
     ]
    },
    {
     "data": {
      "text/plain": [
       "  0%|          | 0/5 [00:00<?, ?it/s]"
      ],
      "application/vnd.jupyter.widget-view+json": {
       "version_major": 2,
       "version_minor": 0,
       "model_id": "934b6fb6255e4a47b6fdd1c2b311b695"
      }
     },
     "metadata": {},
     "output_type": "display_data"
    },
    {
     "name": "stdout",
     "output_type": "stream",
     "text": [
      "After epoch 0, average training loss is 0.6885, average test loss is 0.7058, accuracy on train set is 47.21 and accuracy on test set is 36.36%\n",
      "After epoch 1, average training loss is 0.7377, average test loss is 0.7349, accuracy on train set is 51.78 and accuracy on test set is 36.36%\n",
      "After epoch 2, average training loss is 0.6970, average test loss is 0.7480, accuracy on train set is 44.67 and accuracy on test set is 36.36%\n",
      "After epoch 3, average training loss is 0.6940, average test loss is 0.7484, accuracy on train set is 49.24 and accuracy on test set is 36.36%\n",
      "After epoch 4, average training loss is 0.6996, average test loss is 0.7252, accuracy on train set is 53.81 and accuracy on test set is 36.36%\n"
     ]
    },
    {
     "data": {
      "text/plain": [
       "  0%|          | 0/5 [00:00<?, ?it/s]"
      ],
      "application/vnd.jupyter.widget-view+json": {
       "version_major": 2,
       "version_minor": 0,
       "model_id": "ae7b640062584adcb1a35173e7e4aa5c"
      }
     },
     "metadata": {},
     "output_type": "display_data"
    },
    {
     "name": "stdout",
     "output_type": "stream",
     "text": [
      "After epoch 0, average training loss is 0.7223, average test loss is 0.6977, accuracy on train set is 50.76 and accuracy on test set is 50.00%\n",
      "After epoch 1, average training loss is 0.7454, average test loss is 0.6941, accuracy on train set is 48.22 and accuracy on test set is 50.00%\n",
      "After epoch 2, average training loss is 0.7054, average test loss is 0.6946, accuracy on train set is 48.22 and accuracy on test set is 50.00%\n",
      "After epoch 3, average training loss is 0.6873, average test loss is 0.6985, accuracy on train set is 50.25 and accuracy on test set is 50.00%\n",
      "After epoch 4, average training loss is 0.6870, average test loss is 0.7302, accuracy on train set is 49.24 and accuracy on test set is 50.00%\n"
     ]
    },
    {
     "data": {
      "text/plain": [
       "  0%|          | 0/5 [00:00<?, ?it/s]"
      ],
      "application/vnd.jupyter.widget-view+json": {
       "version_major": 2,
       "version_minor": 0,
       "model_id": "9e5ee2274bbd43adb88120cc626f02e8"
      }
     },
     "metadata": {},
     "output_type": "display_data"
    },
    {
     "name": "stdout",
     "output_type": "stream",
     "text": [
      "After epoch 0, average training loss is 0.7003, average test loss is 0.6891, accuracy on train set is 52.28 and accuracy on test set is 54.55%\n",
      "After epoch 1, average training loss is 0.7140, average test loss is 0.6907, accuracy on train set is 53.30 and accuracy on test set is 54.55%\n",
      "After epoch 2, average training loss is 0.6995, average test loss is 0.6903, accuracy on train set is 50.25 and accuracy on test set is 54.55%\n",
      "After epoch 3, average training loss is 0.6954, average test loss is 0.6896, accuracy on train set is 51.27 and accuracy on test set is 54.55%\n",
      "After epoch 4, average training loss is 0.6837, average test loss is 0.6995, accuracy on train set is 53.81 and accuracy on test set is 45.45%\n"
     ]
    },
    {
     "data": {
      "text/plain": [
       "  0%|          | 0/5 [00:00<?, ?it/s]"
      ],
      "application/vnd.jupyter.widget-view+json": {
       "version_major": 2,
       "version_minor": 0,
       "model_id": "c0172bd6cffa4f6ba4baa41456b64203"
      }
     },
     "metadata": {},
     "output_type": "display_data"
    },
    {
     "name": "stdout",
     "output_type": "stream",
     "text": [
      "After epoch 0, average training loss is 0.7606, average test loss is 0.6891, accuracy on train set is 51.78 and accuracy on test set is 54.55%\n",
      "After epoch 1, average training loss is 0.7540, average test loss is 0.6897, accuracy on train set is 47.72 and accuracy on test set is 54.55%\n",
      "After epoch 2, average training loss is 0.7022, average test loss is 0.6901, accuracy on train set is 49.75 and accuracy on test set is 54.55%\n",
      "After epoch 3, average training loss is 0.6966, average test loss is 0.6897, accuracy on train set is 50.25 and accuracy on test set is 54.55%\n",
      "After epoch 4, average training loss is 0.7008, average test loss is 0.6891, accuracy on train set is 53.30 and accuracy on test set is 54.55%\n"
     ]
    },
    {
     "data": {
      "text/plain": [
       "  0%|          | 0/5 [00:00<?, ?it/s]"
      ],
      "application/vnd.jupyter.widget-view+json": {
       "version_major": 2,
       "version_minor": 0,
       "model_id": "98b3795a1b9b4c9e837fa2eecb39a38e"
      }
     },
     "metadata": {},
     "output_type": "display_data"
    },
    {
     "name": "stdout",
     "output_type": "stream",
     "text": [
      "After epoch 0, average training loss is 0.6888, average test loss is 0.7069, accuracy on train set is 54.31 and accuracy on test set is 36.36%\n",
      "After epoch 1, average training loss is 0.7574, average test loss is 0.7222, accuracy on train set is 48.22 and accuracy on test set is 36.36%\n",
      "After epoch 2, average training loss is 0.7233, average test loss is 0.7108, accuracy on train set is 48.22 and accuracy on test set is 36.36%\n",
      "After epoch 3, average training loss is 0.6796, average test loss is 0.6992, accuracy on train set is 51.78 and accuracy on test set is 36.36%\n",
      "After epoch 4, average training loss is 0.6887, average test loss is 0.6781, accuracy on train set is 51.78 and accuracy on test set is 63.64%\n"
     ]
    },
    {
     "data": {
      "text/plain": [
       "  0%|          | 0/5 [00:00<?, ?it/s]"
      ],
      "application/vnd.jupyter.widget-view+json": {
       "version_major": 2,
       "version_minor": 0,
       "model_id": "17ee546b40994c668d2349e8e0413c0e"
      }
     },
     "metadata": {},
     "output_type": "display_data"
    },
    {
     "name": "stdout",
     "output_type": "stream",
     "text": [
      "After epoch 0, average training loss is 0.7161, average test loss is 0.6970, accuracy on train set is 44.44 and accuracy on test set is 47.62%\n",
      "After epoch 1, average training loss is 0.7195, average test loss is 0.6956, accuracy on train set is 48.99 and accuracy on test set is 47.62%\n",
      "After epoch 2, average training loss is 0.6800, average test loss is 0.7029, accuracy on train set is 50.51 and accuracy on test set is 47.62%\n",
      "After epoch 3, average training loss is 0.7114, average test loss is 0.6997, accuracy on train set is 46.46 and accuracy on test set is 47.62%\n",
      "After epoch 4, average training loss is 0.7539, average test loss is 0.6956, accuracy on train set is 54.55 and accuracy on test set is 52.38%\n"
     ]
    }
   ],
   "execution_count": 211
  },
  {
   "metadata": {
    "ExecuteTime": {
     "end_time": "2025-06-13T16:12:28.951248Z",
     "start_time": "2025-06-13T16:12:28.828030Z"
    }
   },
   "cell_type": "code",
   "source": [
    "best_loss = float('inf')\n",
    "ind = 0\n",
    "for i, m in enumerate(ensemble):\n",
    "    if m['test_loss'] < best_loss:\n",
    "        best_loss = m['test_loss']\n",
    "        ind = i\n",
    "\n",
    "loss_plot(ensemble[ind]['loss_history']['train_loss'], ensemble[ind]['loss_history']['valid_loss'])\n",
    "print(f'Best model number is {ind}, loss is {best_loss}, accuracy is {ensemble[ind][\"test_accuracy\"] * 100:.2f}% from epoch {ensemble[ind][\"epoch\"]}')"
   ],
   "id": "1060a4fb4f40117a",
   "outputs": [
    {
     "name": "stdout",
     "output_type": "stream",
     "text": [
      "Best model number is 1, loss is 0.68194580078125, accuracy is 70.83% from epoch 3\n"
     ]
    },
    {
     "data": {
      "text/plain": [
       "<Figure size 1000x700 with 1 Axes>"
      ],
      "image/png": "[encoded data removed]"
     },
     "metadata": {},
     "output_type": "display_data"
    }
   ],
   "execution_count": 212
  },
  {
   "metadata": {},
   "cell_type": "markdown",
   "source": [
    "## Testing with 3 classes\n",
    "More data can help us to differentiate between classes"
   ],
   "id": "7961d32ac936505a"
  },
  {
   "metadata": {
    "ExecuteTime": {
     "end_time": "2025-06-13T16:20:30.985180Z",
     "start_time": "2025-06-13T16:18:44.078728Z"
    }
   },
   "cell_type": "code",
   "source": [
    "parameters = {\n",
    "    'model': {\n",
    "        'sensors': 360,\n",
    "        'samples': 500,\n",
    "        'num_classes': 3\n",
    "    },\n",
    "    'spatial': {\n",
    "        'spatial': False\n",
    "    }\n",
    "}\n",
    "\n",
    "subject_number = '01'\n",
    "data = load_first_500ms(f'/mnt/diska/baldauf/Subject_{subject_number}_OnsetStim_BOT_scoutTimeSeriesNew.mat', 0) + \\\n",
    "       load_first_500ms(f'/mnt/diska/baldauf/Subject_{subject_number}_OnsetStim_TOP_scoutTimeSeriesNew.mat', 1) + \\\n",
    "       load_first_500ms(f'/mnt/diska/baldauf/Subject_{subject_number}_OnsetStim_ID_scoutTimeSeriesNew.mat', 2)\n",
    "\n",
    "ensemble = train_with_cross_validation(EEGNet, parameters, data, epochs=10)"
   ],
   "id": "a031024227dc08ac",
   "outputs": [
    {
     "data": {
      "text/plain": [
       "  0%|          | 0/10 [00:00<?, ?it/s]"
      ],
      "application/vnd.jupyter.widget-view+json": {
       "version_major": 2,
       "version_minor": 0,
       "model_id": "57ee2588f1f04b50aac6db223e4f58b9"
      }
     },
     "metadata": {},
     "output_type": "display_data"
    },
    {
     "data": {
      "text/plain": [
       "  0%|          | 0/10 [00:00<?, ?it/s]"
      ],
      "application/vnd.jupyter.widget-view+json": {
       "version_major": 2,
       "version_minor": 0,
       "model_id": "ffb688ac846c4bb89155dce3633ae464"
      }
     },
     "metadata": {},
     "output_type": "display_data"
    },
    {
     "name": "stdout",
     "output_type": "stream",
     "text": [
      "After epoch 0, average training loss is 1.1221, average test loss is 1.1055, accuracy on train set is 37.93 and accuracy on test set is 33.33%\n",
      "After epoch 1, average training loss is 1.1256, average test loss is 1.1018, accuracy on train set is 34.48 and accuracy on test set is 33.33%\n",
      "After epoch 2, average training loss is 1.1204, average test loss is 1.0811, accuracy on train set is 32.76 and accuracy on test set is 33.33%\n",
      "After epoch 3, average training loss is 1.0988, average test loss is 1.0710, accuracy on train set is 32.41 and accuracy on test set is 45.45%\n",
      "After epoch 4, average training loss is 1.1021, average test loss is 1.0865, accuracy on train set is 34.48 and accuracy on test set is 45.45%\n",
      "After epoch 5, average training loss is 1.1072, average test loss is 1.1231, accuracy on train set is 32.41 and accuracy on test set is 21.21%\n",
      "After epoch 6, average training loss is 1.0899, average test loss is 1.2324, accuracy on train set is 35.86 and accuracy on test set is 21.21%\n",
      "After epoch 7, average training loss is 1.1136, average test loss is 1.0857, accuracy on train set is 28.62 and accuracy on test set is 45.45%\n",
      "After epoch 8, average training loss is 1.1039, average test loss is 1.5347, accuracy on train set is 32.76 and accuracy on test set is 21.21%\n",
      "After epoch 9, average training loss is 1.1029, average test loss is 3.4242, accuracy on train set is 33.45 and accuracy on test set is 21.21%\n"
     ]
    },
    {
     "data": {
      "text/plain": [
       "  0%|          | 0/10 [00:00<?, ?it/s]"
      ],
      "application/vnd.jupyter.widget-view+json": {
       "version_major": 2,
       "version_minor": 0,
       "model_id": "c0f6957c7d7a4651a9c4bdb1bb4fb231"
      }
     },
     "metadata": {},
     "output_type": "display_data"
    },
    {
     "name": "stdout",
     "output_type": "stream",
     "text": [
      "After epoch 0, average training loss is 1.1085, average test loss is 1.0985, accuracy on train set is 31.03 and accuracy on test set is 36.36%\n",
      "After epoch 1, average training loss is 1.1637, average test loss is 1.0972, accuracy on train set is 27.59 and accuracy on test set is 36.36%\n",
      "After epoch 2, average training loss is 1.1049, average test loss is 1.0940, accuracy on train set is 35.52 and accuracy on test set is 36.36%\n",
      "After epoch 3, average training loss is 1.1001, average test loss is 1.0955, accuracy on train set is 36.90 and accuracy on test set is 36.36%\n",
      "After epoch 4, average training loss is 1.1064, average test loss is 1.0973, accuracy on train set is 36.90 and accuracy on test set is 36.36%\n",
      "After epoch 5, average training loss is 1.1030, average test loss is 1.1272, accuracy on train set is 36.55 and accuracy on test set is 36.36%\n",
      "After epoch 6, average training loss is 1.1151, average test loss is 1.2086, accuracy on train set is 27.24 and accuracy on test set is 27.27%\n",
      "After epoch 7, average training loss is 1.0989, average test loss is 1.2608, accuracy on train set is 34.83 and accuracy on test set is 27.27%\n",
      "After epoch 8, average training loss is 1.0993, average test loss is 1.2755, accuracy on train set is 33.45 and accuracy on test set is 27.27%\n",
      "After epoch 9, average training loss is 1.0963, average test loss is 1.3592, accuracy on train set is 34.48 and accuracy on test set is 36.36%\n"
     ]
    },
    {
     "data": {
      "text/plain": [
       "  0%|          | 0/10 [00:00<?, ?it/s]"
      ],
      "application/vnd.jupyter.widget-view+json": {
       "version_major": 2,
       "version_minor": 0,
       "model_id": "a86c77c248c2437380abe111b6f2afe1"
      }
     },
     "metadata": {},
     "output_type": "display_data"
    },
    {
     "name": "stdout",
     "output_type": "stream",
     "text": [
      "After epoch 0, average training loss is 1.1274, average test loss is 1.1020, accuracy on train set is 30.00 and accuracy on test set is 24.24%\n",
      "After epoch 1, average training loss is 1.1418, average test loss is 1.0970, accuracy on train set is 35.52 and accuracy on test set is 39.39%\n",
      "After epoch 2, average training loss is 1.1052, average test loss is 1.1039, accuracy on train set is 34.83 and accuracy on test set is 39.39%\n",
      "After epoch 3, average training loss is 1.1154, average test loss is 1.0971, accuracy on train set is 31.38 and accuracy on test set is 39.39%\n",
      "After epoch 4, average training loss is 1.1026, average test loss is 1.0936, accuracy on train set is 31.72 and accuracy on test set is 36.36%\n",
      "After epoch 5, average training loss is 1.1050, average test loss is 1.0892, accuracy on train set is 33.79 and accuracy on test set is 36.36%\n",
      "After epoch 6, average training loss is 1.1026, average test loss is 1.0931, accuracy on train set is 33.79 and accuracy on test set is 36.36%\n",
      "After epoch 7, average training loss is 1.1138, average test loss is 1.0924, accuracy on train set is 33.45 and accuracy on test set is 36.36%\n",
      "After epoch 8, average training loss is 1.1045, average test loss is 1.0810, accuracy on train set is 33.45 and accuracy on test set is 36.36%\n",
      "After epoch 9, average training loss is 1.0985, average test loss is 1.2619, accuracy on train set is 37.59 and accuracy on test set is 24.24%\n"
     ]
    },
    {
     "data": {
      "text/plain": [
       "  0%|          | 0/10 [00:00<?, ?it/s]"
      ],
      "application/vnd.jupyter.widget-view+json": {
       "version_major": 2,
       "version_minor": 0,
       "model_id": "b7b65db4348240c3924b10bf36104860"
      }
     },
     "metadata": {},
     "output_type": "display_data"
    },
    {
     "name": "stdout",
     "output_type": "stream",
     "text": [
      "After epoch 0, average training loss is 1.1109, average test loss is 1.0911, accuracy on train set is 38.49 and accuracy on test set is 53.12%\n",
      "After epoch 1, average training loss is 1.1453, average test loss is 1.0868, accuracy on train set is 30.93 and accuracy on test set is 53.12%\n",
      "After epoch 2, average training loss is 1.1264, average test loss is 1.0891, accuracy on train set is 33.68 and accuracy on test set is 53.12%\n",
      "After epoch 3, average training loss is 1.1115, average test loss is 1.0690, accuracy on train set is 29.21 and accuracy on test set is 53.12%\n",
      "After epoch 4, average training loss is 1.1106, average test loss is 1.0834, accuracy on train set is 33.68 and accuracy on test set is 53.12%\n",
      "After epoch 5, average training loss is 1.1017, average test loss is 1.1645, accuracy on train set is 33.68 and accuracy on test set is 25.00%\n",
      "After epoch 6, average training loss is 1.1011, average test loss is 1.3246, accuracy on train set is 34.71 and accuracy on test set is 25.00%\n",
      "After epoch 7, average training loss is 1.0933, average test loss is 1.6157, accuracy on train set is 38.49 and accuracy on test set is 25.00%\n",
      "After epoch 8, average training loss is 1.1235, average test loss is 1.3242, accuracy on train set is 34.36 and accuracy on test set is 25.00%\n",
      "After epoch 9, average training loss is 1.0954, average test loss is 1.5292, accuracy on train set is 38.83 and accuracy on test set is 21.88%\n"
     ]
    },
    {
     "data": {
      "text/plain": [
       "  0%|          | 0/10 [00:00<?, ?it/s]"
      ],
      "application/vnd.jupyter.widget-view+json": {
       "version_major": 2,
       "version_minor": 0,
       "model_id": "bfb8ed05518b47c1a1668cb0bc260bda"
      }
     },
     "metadata": {},
     "output_type": "display_data"
    },
    {
     "name": "stdout",
     "output_type": "stream",
     "text": [
      "After epoch 0, average training loss is 1.1086, average test loss is 1.1007, accuracy on train set is 32.30 and accuracy on test set is 28.12%\n",
      "After epoch 1, average training loss is 1.1521, average test loss is 1.0975, accuracy on train set is 29.90 and accuracy on test set is 34.38%\n",
      "After epoch 2, average training loss is 1.1099, average test loss is 1.1010, accuracy on train set is 32.99 and accuracy on test set is 28.12%\n",
      "After epoch 3, average training loss is 1.0973, average test loss is 1.1004, accuracy on train set is 35.40 and accuracy on test set is 28.12%\n",
      "After epoch 4, average training loss is 1.0976, average test loss is 1.0926, accuracy on train set is 35.05 and accuracy on test set is 34.38%\n",
      "After epoch 5, average training loss is 1.0948, average test loss is 1.1108, accuracy on train set is 34.71 and accuracy on test set is 37.50%\n",
      "After epoch 6, average training loss is 1.1163, average test loss is 1.2512, accuracy on train set is 30.58 and accuracy on test set is 37.50%\n",
      "After epoch 7, average training loss is 1.1080, average test loss is 1.9564, accuracy on train set is 30.24 and accuracy on test set is 37.50%\n",
      "After epoch 8, average training loss is 1.0984, average test loss is 5.2419, accuracy on train set is 31.62 and accuracy on test set is 37.50%\n",
      "After epoch 9, average training loss is 1.0760, average test loss is 18.1567, accuracy on train set is 41.92 and accuracy on test set is 37.50%\n"
     ]
    },
    {
     "data": {
      "text/plain": [
       "  0%|          | 0/10 [00:00<?, ?it/s]"
      ],
      "application/vnd.jupyter.widget-view+json": {
       "version_major": 2,
       "version_minor": 0,
       "model_id": "114503252421480bba40fbc7d997c29e"
      }
     },
     "metadata": {},
     "output_type": "display_data"
    },
    {
     "name": "stdout",
     "output_type": "stream",
     "text": [
      "After epoch 0, average training loss is 1.0810, average test loss is 1.0743, accuracy on train set is 41.58 and accuracy on test set is 46.88%\n",
      "After epoch 1, average training loss is 1.2097, average test loss is 1.0709, accuracy on train set is 28.52 and accuracy on test set is 46.88%\n",
      "After epoch 2, average training loss is 1.1090, average test loss is 1.0794, accuracy on train set is 32.30 and accuracy on test set is 46.88%\n",
      "After epoch 3, average training loss is 1.0950, average test loss is 1.1283, accuracy on train set is 37.11 and accuracy on test set is 21.88%\n",
      "After epoch 4, average training loss is 1.1210, average test loss is 1.0533, accuracy on train set is 30.93 and accuracy on test set is 46.88%\n",
      "After epoch 5, average training loss is 1.1007, average test loss is 1.0639, accuracy on train set is 34.02 and accuracy on test set is 46.88%\n",
      "After epoch 6, average training loss is 1.1021, average test loss is 1.0950, accuracy on train set is 30.58 and accuracy on test set is 46.88%\n",
      "After epoch 7, average training loss is 1.0994, average test loss is 1.1387, accuracy on train set is 34.36 and accuracy on test set is 46.88%\n",
      "After epoch 8, average training loss is 1.0976, average test loss is 1.3819, accuracy on train set is 36.08 and accuracy on test set is 46.88%\n",
      "After epoch 9, average training loss is 1.1002, average test loss is 4.3533, accuracy on train set is 36.08 and accuracy on test set is 46.88%\n"
     ]
    },
    {
     "data": {
      "text/plain": [
       "  0%|          | 0/10 [00:00<?, ?it/s]"
      ],
      "application/vnd.jupyter.widget-view+json": {
       "version_major": 2,
       "version_minor": 0,
       "model_id": "dc611732060d49e28d24331e85052de8"
      }
     },
     "metadata": {},
     "output_type": "display_data"
    },
    {
     "name": "stdout",
     "output_type": "stream",
     "text": [
      "After epoch 0, average training loss is 1.1151, average test loss is 1.0984, accuracy on train set is 30.58 and accuracy on test set is 31.25%\n",
      "After epoch 1, average training loss is 1.1688, average test loss is 1.1020, accuracy on train set is 29.90 and accuracy on test set is 28.12%\n",
      "After epoch 2, average training loss is 1.1084, average test loss is 1.0967, accuracy on train set is 37.80 and accuracy on test set is 40.62%\n",
      "After epoch 3, average training loss is 1.1010, average test loss is 1.0936, accuracy on train set is 36.08 and accuracy on test set is 40.62%\n",
      "After epoch 4, average training loss is 1.0960, average test loss is 1.0918, accuracy on train set is 33.33 and accuracy on test set is 40.62%\n",
      "After epoch 5, average training loss is 1.1031, average test loss is 1.1253, accuracy on train set is 32.65 and accuracy on test set is 40.62%\n",
      "After epoch 6, average training loss is 1.1215, average test loss is 1.0887, accuracy on train set is 33.33 and accuracy on test set is 40.62%\n",
      "After epoch 7, average training loss is 1.0999, average test loss is 1.1494, accuracy on train set is 30.93 and accuracy on test set is 31.25%\n",
      "After epoch 8, average training loss is 1.0957, average test loss is 1.3674, accuracy on train set is 32.30 and accuracy on test set is 31.25%\n",
      "After epoch 9, average training loss is 1.1013, average test loss is 1.7581, accuracy on train set is 35.05 and accuracy on test set is 28.12%\n"
     ]
    },
    {
     "data": {
      "text/plain": [
       "  0%|          | 0/10 [00:00<?, ?it/s]"
      ],
      "application/vnd.jupyter.widget-view+json": {
       "version_major": 2,
       "version_minor": 0,
       "model_id": "3372f69ee8f7406eb41f6907f9f4d3b7"
      }
     },
     "metadata": {},
     "output_type": "display_data"
    },
    {
     "name": "stdout",
     "output_type": "stream",
     "text": [
      "After epoch 0, average training loss is 1.0947, average test loss is 1.0986, accuracy on train set is 37.80 and accuracy on test set is 31.25%\n",
      "After epoch 1, average training loss is 1.1563, average test loss is 1.1372, accuracy on train set is 27.49 and accuracy on test set is 31.25%\n",
      "After epoch 2, average training loss is 1.1189, average test loss is 1.1303, accuracy on train set is 34.36 and accuracy on test set is 31.25%\n",
      "After epoch 3, average training loss is 1.1039, average test loss is 1.1595, accuracy on train set is 34.36 and accuracy on test set is 31.25%\n",
      "After epoch 4, average training loss is 1.1039, average test loss is 1.0897, accuracy on train set is 30.24 and accuracy on test set is 31.25%\n",
      "After epoch 5, average training loss is 1.1044, average test loss is 1.0777, accuracy on train set is 36.77 and accuracy on test set is 46.88%\n",
      "After epoch 6, average training loss is 1.1049, average test loss is 1.0777, accuracy on train set is 33.68 and accuracy on test set is 46.88%\n",
      "After epoch 7, average training loss is 1.1015, average test loss is 1.1037, accuracy on train set is 35.74 and accuracy on test set is 46.88%\n",
      "After epoch 8, average training loss is 1.1070, average test loss is 1.3103, accuracy on train set is 35.74 and accuracy on test set is 46.88%\n",
      "After epoch 9, average training loss is 1.1042, average test loss is 1.9804, accuracy on train set is 34.02 and accuracy on test set is 46.88%\n"
     ]
    },
    {
     "data": {
      "text/plain": [
       "  0%|          | 0/10 [00:00<?, ?it/s]"
      ],
      "application/vnd.jupyter.widget-view+json": {
       "version_major": 2,
       "version_minor": 0,
       "model_id": "8a5853a0c06744569003b9a2e908719c"
      }
     },
     "metadata": {},
     "output_type": "display_data"
    },
    {
     "name": "stdout",
     "output_type": "stream",
     "text": [
      "After epoch 0, average training loss is 1.1197, average test loss is 1.1067, accuracy on train set is 32.65 and accuracy on test set is 31.25%\n",
      "After epoch 1, average training loss is 1.1250, average test loss is 1.1086, accuracy on train set is 34.36 and accuracy on test set is 31.25%\n",
      "After epoch 2, average training loss is 1.1153, average test loss is 1.1074, accuracy on train set is 31.96 and accuracy on test set is 31.25%\n",
      "After epoch 3, average training loss is 1.1110, average test loss is 1.0968, accuracy on train set is 30.58 and accuracy on test set is 37.50%\n",
      "After epoch 4, average training loss is 1.0996, average test loss is 1.1418, accuracy on train set is 35.40 and accuracy on test set is 31.25%\n",
      "After epoch 5, average training loss is 1.1055, average test loss is 1.3099, accuracy on train set is 32.65 and accuracy on test set is 37.50%\n",
      "After epoch 6, average training loss is 1.1054, average test loss is 1.1234, accuracy on train set is 31.96 and accuracy on test set is 37.50%\n",
      "After epoch 7, average training loss is 1.1055, average test loss is 1.0973, accuracy on train set is 32.65 and accuracy on test set is 37.50%\n",
      "After epoch 8, average training loss is 1.0939, average test loss is 1.2883, accuracy on train set is 37.11 and accuracy on test set is 37.50%\n",
      "After epoch 9, average training loss is 1.1022, average test loss is 1.8343, accuracy on train set is 32.30 and accuracy on test set is 37.50%\n"
     ]
    },
    {
     "data": {
      "text/plain": [
       "  0%|          | 0/10 [00:00<?, ?it/s]"
      ],
      "application/vnd.jupyter.widget-view+json": {
       "version_major": 2,
       "version_minor": 0,
       "model_id": "d3f35933cc5b4395a4244736ef37b4ab"
      }
     },
     "metadata": {},
     "output_type": "display_data"
    },
    {
     "name": "stdout",
     "output_type": "stream",
     "text": [
      "After epoch 0, average training loss is 1.1299, average test loss is 1.1023, accuracy on train set is 28.18 and accuracy on test set is 28.12%\n",
      "After epoch 1, average training loss is 1.1555, average test loss is 1.1024, accuracy on train set is 28.18 and accuracy on test set is 34.38%\n",
      "After epoch 2, average training loss is 1.0996, average test loss is 1.0982, accuracy on train set is 33.68 and accuracy on test set is 34.38%\n",
      "After epoch 3, average training loss is 1.0952, average test loss is 1.0961, accuracy on train set is 35.74 and accuracy on test set is 34.38%\n",
      "After epoch 4, average training loss is 1.0966, average test loss is 1.1036, accuracy on train set is 32.30 and accuracy on test set is 37.50%\n",
      "After epoch 5, average training loss is 1.0967, average test loss is 1.4266, accuracy on train set is 32.30 and accuracy on test set is 28.12%\n",
      "After epoch 6, average training loss is 1.1176, average test loss is 2.0634, accuracy on train set is 29.55 and accuracy on test set is 28.12%\n",
      "After epoch 7, average training loss is 1.1118, average test loss is 2.3116, accuracy on train set is 27.84 and accuracy on test set is 28.12%\n",
      "After epoch 8, average training loss is 1.1006, average test loss is 1.8176, accuracy on train set is 32.30 and accuracy on test set is 28.12%\n",
      "After epoch 9, average training loss is 1.0849, average test loss is 2.3088, accuracy on train set is 40.21 and accuracy on test set is 34.38%\n"
     ]
    }
   ],
   "execution_count": 214
  },
  {
   "metadata": {
    "ExecuteTime": {
     "end_time": "2025-06-13T16:20:51.478246Z",
     "start_time": "2025-06-13T16:20:51.353673Z"
    }
   },
   "cell_type": "code",
   "source": [
    "best_loss = float('inf')\n",
    "ind = 0\n",
    "for i, m in enumerate(ensemble):\n",
    "    if m['test_loss'] < best_loss:\n",
    "        best_loss = m['test_loss']\n",
    "        ind = i\n",
    "\n",
    "loss_plot(ensemble[ind]['loss_history']['train_loss'], ensemble[ind]['loss_history']['valid_loss'])\n",
    "print(\n",
    "    f'Best model number is {ind}, loss is {best_loss}, accuracy is {ensemble[ind][\"test_accuracy\"] * 100:.2f}% from epoch {ensemble[ind][\"epoch\"]}')"
   ],
   "id": "53da8b405bc4c3ac",
   "outputs": [
    {
     "name": "stdout",
     "output_type": "stream",
     "text": [
      "Best model number is 6, loss is 1.0766668319702148, accuracy is 42.86% from epoch 6\n"
     ]
    },
    {
     "data": {
      "text/plain": [
       "<Figure size 1000x700 with 1 Axes>"
      ],
      "image/png": "[encoded data removed]"
     },
     "metadata": {},
     "output_type": "display_data"
    }
   ],
   "execution_count": 215
  },
  {
   "metadata": {},
   "cell_type": "markdown",
   "source": [
    "Possible next steps:\n",
    "1. Try training with all participant data\n",
    "2. Train with full data (whole experiment)\n",
    "3. It would be good to train with different random seeds and try cross-validation if models will start learning something."
   ],
   "id": "3d1be5093e54fad2"
  }
 ],
 "metadata": {
  "kernelspec": {
   "display_name": "Python [conda env:.conda-topography-env]",
   "language": "python",
   "name": "conda-env-.conda-topography-env-py"
  },
  "language_info": {
   "codemirror_mode": {
    "name": "ipython",
    "version": 2
   },
   "file_extension": ".py",
   "mimetype": "text/x-python",
   "name": "python",
   "nbconvert_exporter": "python",
   "pygments_lexer": "ipython2",
   "version": "2.7.6"
  }
 },
 "nbformat": 4,
 "nbformat_minor": 5
}
